{
 "cells": [
  {
   "cell_type": "markdown",
   "id": "77bf364d",
   "metadata": {},
   "source": [
    "# Quant analysis script for 1 plate\n",
    "\n",
    "### Instructions:\n",
    "This script will analyze quant data from the Tecan M1000 and output concentrations in ng/ul as well as a normalization file for the Tecan.\n",
    "\n",
    "Run script cell-by-cell by pressing \"shift + enter\", providing input when required.\n",
    "\n",
    "### Input required:\n",
    "You will need a .csv file containing just the raw fluorescence measurements in 384w format.  You will need to have your standard curve plate in Quadrant\n",
    "\n",
    "\n",
    "\n",
    "\n",
    "### Outputs:\n",
    "The output will be a .csv file containing well/quant information as well as a .gwl file for normalization on the Tecan\n",
    "\n",
    "\n",
    "\n",
    "\n",
    "\n",
    "\n",
    "\n",
    "\n",
    "___________\n"
   ]
  },
  {
   "cell_type": "markdown",
   "id": "bce24a41",
   "metadata": {
    "hideCode": true,
    "hideOutput": true
   },
   "source": [
    "\n",
    "____\n",
    "\n",
    "## STEP 1: Upload quant measurements and enter normalization values:\n",
    "Use the form below to upload your .csv containing quant measurements from the M1000.  \n",
    "You will also be prompted to enter the final volume and concentration for normalization."
   ]
  },
  {
   "cell_type": "code",
   "execution_count": 4,
   "id": "a92b5573",
   "metadata": {
    "hideCode": true,
    "tags": [
     "remove_input"
    ]
   },
   "outputs": [
    {
     "data": {
      "application/vnd.jupyter.widget-view+json": {
       "model_id": "38ff15240d9540f0861c5f327d9a6cff",
       "version_major": 2,
       "version_minor": 0
      },
      "text/plain": [
       "FileUpload(value={}, accept='.csv', description='Input required! Upload .csv file containing your 384w quant m…"
      ]
     },
     "metadata": {},
     "output_type": "display_data"
    },
    {
     "data": {
      "application/vnd.jupyter.widget-view+json": {
       "model_id": "752ae064d90e422887f0d5500e53574d",
       "version_major": 2,
       "version_minor": 0
      },
      "text/plain": [
       "Tab(children=(Box(children=(Text(value='', description='Plate 1 name (no spaces!): ', layout=Layout(height='30…"
      ]
     },
     "metadata": {},
     "output_type": "display_data"
    }
   ],
   "source": [
    "## LIBRRAY IMPORTS\n",
    "import pandas as pd\n",
    "import matplotlib.pyplot as plt\n",
    "import numpy as np\n",
    "import seaborn as sns\n",
    "import ipywidgets as widgets\n",
    "from IPython.display import display\n",
    "from ipywidgets import Button, HBox, VBox, Layout, Label\n",
    "import io\n",
    "import re\n",
    "\n",
    "quant_file = widgets.FileUpload(\n",
    "    accept='.csv',  # Accepted file extension e.g. '.txt', '.pdf', 'image/*', 'image/*,.pdf'\n",
    "    multiple=False  # True to accept multiple files upload else False\n",
    "    , description = \"Input required! Upload .csv file containing your 384w quant measurements\"\n",
    "    #, style = {'description_width': 'initial'}\n",
    "    , layout = Layout(width='50%', height='60px')\n",
    ")\n",
    "\n",
    "display(quant_file)\n",
    "\n",
    "totalV_1 = widgets.FloatText(\n",
    "     description='Final normalized volume for Plate 1 (ul): '\n",
    "    , disabled=False\n",
    "    , style = {'description_width': 'initial'}\n",
    "    , layout = Layout(width='35%', height='30px'))\n",
    "    \n",
    "\n",
    "finalC_1 = widgets.FloatText(\n",
    "    description='Final concentration for Plate 1 (ng/ul):     '\n",
    "    , disabled=False\n",
    "    , style = {'description_width': 'initial'}\n",
    "    , layout = Layout(width='35%', height='30px')\n",
    "    , label = Label(color = 'red')\n",
    ")\n",
    "    \n",
    "\n",
    "plate1 = widgets.Text(\n",
    "    description='Plate 1 name (no spaces!): '\n",
    "    , disabled=False\n",
    "    , style = {'description_width': 'initial'}\n",
    "    , layout = Layout(width='35%', height='30px')\n",
    "    , placeholder='Plate 1')\n",
    "\n",
    "    \n",
    "\n",
    "page1 = widgets.Box(children=[plate1, totalV_1, finalC_1])\n",
    "\n",
    "\n",
    "accord = widgets.Tab(children=[page1], width=400)\n",
    "accord.set_title(0, 'Plate 1')\n",
    "\n",
    "\n",
    "display(accord)\n",
    "\n"
   ]
  },
  {
   "cell_type": "markdown",
   "id": "80f676ec",
   "metadata": {},
   "source": [
    "______\n",
    "### After Uploading your file and entering in your normalization values, you can select above \"Cell > Run all below\" to run the entire notebook!  Or, run the cells one by one if you want.\n",
    "\n",
    "## STEP 2:  Visualize raw data and (optionally) remove wells from analysis\n",
    "This cell will output a visualization of raw quant data from your file.  You can remove certain wells from analysis if you would like by entering them in the form below."
   ]
  },
  {
   "cell_type": "code",
   "execution_count": null,
   "id": "e21dbd3d",
   "metadata": {
    "hideCode": true,
    "tags": [
     "remove_input"
    ]
   },
   "outputs": [],
   "source": [
    "#quant_file = quant_file.value\n",
    "# Set variables, file names, and metadata\n",
    "quant_f = list(quant_file.value.values())[0]\n",
    "quant_fn = quant_f['content']\n",
    "quant_fn = io.StringIO(quant_fn.decode('utf-8'))\n",
    "quant_fn = pd.read_csv(quant_fn, index_col = '<>')\n",
    "quant_fn.head()\n",
    "stdConc = [0,5,10,20,30,40,50,60,70,80,90,100] # ng/uL concentration of lambda DNA in standard DEFAULT\n",
    "\n",
    "# Define row and column sets for each quadrant\n",
    "alphabet = 'ABCDEFGHIJKLMNOP'\n",
    "Q13_cols = [str(i) for i in list(range(1,25,2))]\n",
    "Q24_cols = [str(i) for i in list(range(2,25,2))]\n",
    "Q12_rows = [alphabet[i] for i in list(range(0,len(alphabet),2))]\n",
    "Q34_rows = [alphabet[i] for i in list(range(1,len(alphabet),2))]\n",
    "\n",
    "# Subset quadrants from the 384-well plate\n",
    "Q1 = quant_fn.loc[Q12_rows,Q13_cols]\n",
    "\n",
    "Q2 = quant_fn.loc[Q12_rows,Q24_cols]\n",
    "Q2 = Q2.set_axis([\"A\",\"B\",\"C\",\"D\",\"E\",\"F\",\"G\",\"H\"],axis=0)\n",
    "Q2 = Q2.set_axis(range(1,13),axis = 1)\n",
    "\n",
    "Q3 = quant_fn.loc[Q34_rows,Q13_cols]\n",
    "Q3 = Q3.set_axis([\"A\",\"B\",\"C\",\"D\",\"E\",\"F\",\"G\",\"H\"],axis=0)\n",
    "Q3 = Q3.set_axis(range(1,13),axis = 1)\n",
    "\n",
    "Q4 = quant_fn.loc[Q34_rows,Q24_cols]\n",
    "Q4 = Q4.set_axis([\"A\",\"B\",\"C\",\"D\",\"E\",\"F\",\"G\",\"H\"],axis=0)\n",
    "Q4 = Q4.set_axis(range(1,13),axis = 1)\n",
    "\n",
    "\n",
    "\n",
    "\n",
    "# Reorder the samples in Q1 (standard)\n",
    "Q1_inv = Q1.iloc[[1,3,5,7], ::-1]\n",
    "Q1_inv.rename(columns=dict(zip(Q1_inv.columns,Q1.columns)), inplace=True)\n",
    "Q1_ord = pd.concat([Q1_inv, Q1.iloc[[0,2,4,6],:]]).sort_index()\n",
    "\n",
    "plt.imshow(Q1_ord, cmap=\"viridis\")\n",
    "plt.title('Reordered Standard')\n",
    "plt.colorbar()\n",
    "plt.show()\n",
    "\n",
    "Sample_Intensities = pd.DataFrame(0, index=[\"A\",\"B\",\"C\",\"D\",\"E\",\"F\",\"G\",\"H\"], columns=range(1,13))\n",
    "Sample_Devs = pd.DataFrame(0, index=[\"A\",\"B\",\"C\",\"D\",\"E\",\"F\",\"G\",\"H\"], columns=range(1,13))\n",
    "\n",
    "\n",
    "#for row_i in range(Q1.shape[0]):\n",
    "#    for col_j in range(Q1.shape[1]):\n",
    "#        Sample_Intensities.iloc[row_i, col_j] = np.mean([Q2.iloc[row_i, col_j], Q3.iloc[row_i, col_j], Q4.iloc[row_i, col_j]])\n",
    "#        Sample_Devs.iloc[row_i, col_j] = np.std((Q2.iloc[row_i, col_j],Q3.iloc[row_i, col_j],Q4.iloc[row_i, col_j]))\n",
    "        \n",
    "# Visualize AVG and CV\n",
    "\n",
    "plt.imshow(Q2, cmap=\"viridis\")\n",
    "#p1t.title(\"Plate 1 intensities\")\n",
    "plt.title(f'{plate1.value} intensities')\n",
    "\n",
    "plt.show()\n",
    "\n",
    "rmv_Q2 = widgets.Text(\n",
    "    placeholder='Comma-separated list of wells to remove from analysis',\n",
    "    description='Plate 1 remove wells?: ',\n",
    "    disabled=False\n",
    "    , style = {'description_width': 'initial'}\n",
    "  , layout = Layout(width='300px', height='30px')\n",
    ")\n",
    "\n",
    "\n",
    "page1 = widgets.Box(children=[rmv_Q2])\n",
    "\n",
    "accord = widgets.Tab(children=[page1])\n",
    "accord.set_title(0, 'Plate 1')\n",
    "\n",
    "display(accord)\n",
    "\n"
   ]
  },
  {
   "cell_type": "markdown",
   "id": "ac84c0ee",
   "metadata": {},
   "source": [
    "\n",
    "### Re-visualize raw fluorescence after removing wells from analysis\n",
    "If you didn't remove any wells, these plots will be exactly the same as above..."
   ]
  },
  {
   "cell_type": "code",
   "execution_count": null,
   "id": "7b37e419",
   "metadata": {
    "hideCode": true,
    "tags": [
     "remove_input"
    ]
   },
   "outputs": [],
   "source": [
    "remove_p1 = rmv_Q2.value.split(',')\n",
    "remove_p1 = [well.strip() for well in remove_p1]\n",
    "\n",
    "\n",
    "\n",
    "if remove_p1[0] != '':\n",
    "    print(f\"Plate 1 wells removed: {remove_p1}\")\n",
    "    for i in remove_p1:\n",
    "        items = re.match(r\"([a-z]+)([0-9]+)\", i, re.I).groups()\n",
    "        Q2.loc[items[0],int(items[1])] = np.nan\n",
    "\n",
    "\n",
    "\n",
    "\n",
    "\n",
    "\n",
    "## RE-plot with removed wells\n",
    "\n",
    "plt.imshow(Q2, cmap=\"viridis\")\n",
    "plt.title(f'{plate1.value} intensities')\n",
    "#fig.colorbar(plot1, ax=axs[0])\n",
    "\n",
    "\n",
    "plt.show()"
   ]
  },
  {
   "cell_type": "markdown",
   "id": "0021beca",
   "metadata": {},
   "source": [
    "___\n",
    "## STEP 3:  Make standard curve\n",
    "Uses Quadrant 1 (standard plate) to make a standard curve to convert fluorescence values to ng/ul"
   ]
  },
  {
   "cell_type": "code",
   "execution_count": null,
   "id": "c58ba976",
   "metadata": {
    "hideCode": true
   },
   "outputs": [],
   "source": [
    "# Visualize AVG and CV\n",
    "fig, axs = plt.subplots(1,2, figsize=(15,5))\n",
    "\n",
    "axs[0].imshow(Q1_ord, cmap=\"viridis\")\n",
    "axs[0].set_title('Standard')\n",
    "#colorbar()\n",
    "#plt.show()\n",
    "\n",
    "x = list(Q1_ord.mean())\n",
    "plt.scatter(x, stdConc, c='k')\n",
    "m,b = np.polyfit(x, stdConc, 1)\n",
    "print(m, b)\n",
    "axs[1].plot(x, m*np.asarray(x) + b, c='r')\n",
    "#plt.show()"
   ]
  },
  {
   "cell_type": "markdown",
   "id": "7ef16c06",
   "metadata": {},
   "source": [
    "___\n",
    "## STEP 4:  Calculate concentrations in plate\n",
    "Use the standard curve to calculate ng/ul across the plates:"
   ]
  },
  {
   "cell_type": "code",
   "execution_count": null,
   "id": "819be0cf",
   "metadata": {
    "hideCode": true
   },
   "outputs": [],
   "source": [
    "# Calculate concentrations sample plate 1 (quadrand 2)\n",
    "Conc_1 = m*Q2+b\n",
    "\n",
    "\n",
    "#Re-name row and column names to match a 96w plate\n",
    "Conc_1 = Conc_1.set_axis([\"A\",\"B\",\"C\",\"D\",\"E\",\"F\",\"G\",\"H\"],axis=0)\n",
    "Conc_1 = Conc_1.set_axis(range(1,13),axis = 1)\n",
    "\n",
    "\n",
    "\n",
    "#plt.figure(figsize=(100,50))\n",
    "plt.rcParams[\"figure.figsize\"] = [6, 5]\n",
    "plt.rcParams[\"figure.autolayout\"] = True\n",
    "\n",
    "conc1_concs = Conc_1.melt()\n",
    "hist1 = conc1_concs['value'].plot(kind = 'hist')\n",
    "plt.title(f\"{plate1.value} ng/ul\")\n",
    "plt.xlim([0,120])\n",
    "plt.axvline(x=finalC_1.value, color = 'r', linestyle = '--')\n",
    "\n",
    "print(\"\\n\\nHisrograms of ng/ul of the plate.  DOTTED LINE indicates desired normalization value\")"
   ]
  },
  {
   "cell_type": "markdown",
   "id": "f8a9b665",
   "metadata": {},
   "source": [
    "\n",
    "____\n",
    "## STEP 5:  Calculate volumes needed for normalization\n",
    "This cell will create a new .csv file containing each plate well concentration information as well as how much volume is needed for normalization"
   ]
  },
  {
   "cell_type": "code",
   "execution_count": null,
   "id": "b9514fd3",
   "metadata": {
    "hideCode": true
   },
   "outputs": [],
   "source": [
    "pd.set_option(\"display.max_rows\", None, \"display.max_columns\", None) \n",
    "print(f\"{plate1.value} concentration data exported to .csv! Check your current directory\")\n",
    "\n",
    "print(\"\\n\")\n",
    "\n",
    "\n",
    "\n",
    "## Plate 1:\n",
    "# Linearize the data\n",
    "DF_1 = pd.DataFrame(columns = ['Pos','Concentration'])\n",
    "for i, content in Conc_1.items():\n",
    "    col_i = str(i)\n",
    "    for j,k in content.iteritems():\n",
    "        wellConc = {'Pos' : [j+col_i], 'Concentration':[k]}\n",
    "        welldf = pd.DataFrame(data = wellConc)\n",
    "        DF_1 = pd.concat([DF_1, welldf], axis = 0, ignore_index = True)\n",
    "# Calculate the volume of DNA and EB required for totalV @ finalC ng/uL\n",
    "#pd.to_numeric(DF_1.Concentration)\n",
    "DF_1['Concentration'] = DF_1['Concentration'].astype(float)\n",
    "DF_1['Concentration'] = round(DF_1['Concentration'],2)\n",
    "DF_1['uL_DNA'] = round(totalV_1.value*finalC_1.value / DF_1.Concentration,2)\n",
    "DF_1['uL_EB'] = round(totalV_1.value-DF_1.uL_DNA,2)\n",
    "\n",
    "\n",
    "print(f\"Mean DNA concentration {plate1.value}: {round(DF_1['Concentration'].mean(),2)} ng/ul\")\n",
    "print(f\"Min concentration of DNA in {plate1.value} {round(DF_1['Concentration'].min(),2)} ng/ul\" )\n",
    "print(\"\\n\")\n",
    "\n",
    "plate1_export = DF_1\n",
    "plate1_export = plate1_export.drop(['uL_EB'],axis = 1)\n",
    "plate1_export = plate1_export.rename({\"Pos\":\"Well\",\"uL_DNA\":\"ul needed for normalization\"}, axis = 1)\n",
    "plate1_export = plate1_export.set_index('Well')\n",
    "plate1_export = plate1_export.dropna(how = 'any')\n",
    "plate1_export.to_csv(f\"{plate1.value}_concentrations.csv\")\n",
    "\n",
    "\n",
    "\n",
    "## Negative volume handling\n",
    "# Cannot pipette volumes less than or equal to 0\n",
    "for i, content in DF_1.iterrows():\n",
    "    if content.Concentration < finalC_1.value:\n",
    "        print(\"ALERT!\" ,content.Pos, \" \",plate1.value,\" is below\", finalC_1.value, \"ng/uL!.... concentration: \", content.Concentration)\n",
    "        DF_1.loc[i,'uL_DNA'] = totalV_1.value-1\n",
    "        DF_1.loc[i,'uL_EB'] = 1\n",
    "        \n",
    "\n",
    "print(\"\\n\")\n",
    "\n",
    "print(f\"Max vol DNA to transfer from {plate1.value}: {DF_1['uL_DNA'].max()}uL\")\n",
    "print(f\"Min vol DNA to transfer from {plate1.value}: {DF_1['uL_DNA'].min()}uL\")\n",
    "print(f\"Mean vol DNA transfered {plate1.value}: {round(DF_1['uL_DNA'].mean(),2)}uL\")\n",
    "print(\"\\n\")\n"
   ]
  },
  {
   "cell_type": "markdown",
   "id": "14cd77c4",
   "metadata": {},
   "source": [
    "\n",
    "____\n",
    "### Visualize ul of DNA needed to transfer from each well to achieve desired normalization volume and concentration:\n",
    "Ensure that no wells are below your normalization value"
   ]
  },
  {
   "cell_type": "code",
   "execution_count": null,
   "id": "1fbe311b",
   "metadata": {
    "hideCode": true
   },
   "outputs": [],
   "source": [
    "### PLOT VOLUME OF DNA TRANSFERED BY WELL\n",
    "x_var = 'Pos'\n",
    "y_var = 'uL_DNA'\n",
    "\n",
    "\n",
    "\n",
    "print(\"Volumes for each plate to be transfered:  Dotted line indicates average for that plate\")\n",
    "#plt.figure(figsize=(100,50))\n",
    "\n",
    "\n",
    "\n",
    "###PLATE 1\n",
    "\n",
    "plt.figure(figsize=(15,5))\n",
    "plotdf = DF_1\n",
    "\n",
    "sns.barplot(x= x_var, y= y_var, data=plotdf)\n",
    "plt.tick_params(rotation=90)\n",
    "plt.xlabel('ul DNA')\n",
    "#plt.ylim([0,100])\n",
    "plt.ylabel('ul Miniprep',size=14)\n",
    "#plt.ylim([0,70])\n",
    "plt.title(f'ul DNA from {plate1.value} by well',size=12)\n",
    "plt.hlines(round(DF_1['uL_DNA'].mean(),2),-1,96, linestyles = 'dashed', color = 'k')\n"
   ]
  },
  {
   "cell_type": "markdown",
   "id": "a970e5c5",
   "metadata": {},
   "source": [
    "\n",
    "____\n",
    "## STEP 6:  Make output files for Tecan normalization\n",
    "These files will be in a \".gwl\" format and can be run using script AUTO-MAM-206\n",
    "\n",
    "### First, confirm final concentrations and volumes.  If you would like to change this, go back to step 1 and re-run this entire script!"
   ]
  },
  {
   "cell_type": "code",
   "execution_count": null,
   "id": "2e7cdc46",
   "metadata": {
    "hideCode": true
   },
   "outputs": [],
   "source": [
    "#Confirming concentration and volumes:\n",
    "\n",
    "print(f'Confirm that you want to normalize {plate1.value} to:\\n{finalC_1.value}ng/ul\\nin a total volume of:\\n{totalV_1.value}ul!\\nIf this is incorrect, go back to top of script and rerun!')"
   ]
  },
  {
   "cell_type": "markdown",
   "id": "dae92fc0",
   "metadata": {},
   "source": [
    "___\n",
    "### Make .gwl files\n",
    "These will be exported to your current directory."
   ]
  },
  {
   "cell_type": "code",
   "execution_count": null,
   "id": "61d982ab",
   "metadata": {
    "hideCode": true
   },
   "outputs": [],
   "source": [
    "## DROP nan rows so they don't end up in gwl:\n",
    "\n",
    "DF_1 = DF_1.dropna(how = 'any')\n",
    "\n",
    "######### Plate 1 ########\n",
    "# Make A/D commands for GWL script\n",
    "\n",
    "# First, make commands for EB\n",
    "DF_1['A_EB'] = \"A;Trough_EB;;;\"+DF_1.Pos+\";;\"+DF_1.uL_EB.astype(str)+\";\"\n",
    "DF_1['D_EB'] = \"D;pDNA_P1_Dil;;;\"+DF_1.Pos+\";;\"+DF_1.uL_EB.astype(str)+\";\"\n",
    "DF_1['W_EB'] = \"W;\"\n",
    "\n",
    "# Second, make commands for DNA\n",
    "DF_1['A_DNA'] = \"A;pDNA_P1;;;\"+DF_1.Pos+\";;\"+DF_1.uL_DNA.astype(str)+\";\"\n",
    "DF_1['D_DNA'] = \"D;pDNA_P1_Dil;;;\"+DF_1.Pos+\";;\"+DF_1.uL_DNA.astype(str)+\";\"\n",
    "DF_1['W_DNA'] = \"W;\"\n",
    "\n",
    "out1 = f\"{plate1.value}_{int(finalC_1.value)}ngul_{int(totalV_1.value)}ul.gwl\"\n",
    "with open(out1,'w+') as outfile:\n",
    "    # First, write the EB A/D cycles\n",
    "    for index, row in DF_1.iterrows():\n",
    "        outfile.write(row[\"A_EB\"]+\"\\n\")\n",
    "        outfile.write(row[\"D_EB\"]+\"\\n\")\n",
    "        outfile.write(row[\"W_EB\"]+\"\\n\")\n",
    "    # Second, write the DNA A/D cycles\n",
    "    for index, row in DF_1.iterrows():\n",
    "        outfile.write(row[\"A_DNA\"]+\"\\n\")\n",
    "        outfile.write(row[\"D_DNA\"]+\"\\n\")\n",
    "        outfile.write(row[\"W_DNA\"]+\"\\n\")\n",
    "\n",
    "\n",
    "\n",
    "print(\"_____________\\n\\nAll done! Check your current directory (where this script is) for .csv files containing ng/ul information for all wells as well as .gwl files for the Tecan normalization\")"
   ]
  },
  {
   "cell_type": "code",
   "execution_count": null,
   "id": "ab6a934e",
   "metadata": {},
   "outputs": [],
   "source": []
  }
 ],
 "metadata": {
  "kernelspec": {
   "display_name": "Python 3 (ipykernel)",
   "language": "python",
   "name": "python3"
  },
  "language_info": {
   "codemirror_mode": {
    "name": "ipython",
    "version": 3
   },
   "file_extension": ".py",
   "mimetype": "text/x-python",
   "name": "python",
   "nbconvert_exporter": "python",
   "pygments_lexer": "ipython3",
   "version": "3.8.11"
  }
 },
 "nbformat": 4,
 "nbformat_minor": 5
}
