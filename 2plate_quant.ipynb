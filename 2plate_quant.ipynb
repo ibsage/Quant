{
 "cells": [
  {
   "cell_type": "markdown",
   "id": "77bf364d",
   "metadata": {},
   "source": [
    "# Quant analysis script for 2 plates\n",
    "\n",
    "### Instructions:\n",
    "This script will analyze quant data from the Tecan M1000 and output concentrations in ng/ul as well as a normalization file for the Tecan.\n",
    "\n",
    "Run script cell-by-cell by pressing \"shift + enter\", providing input when required.\n",
    "\n",
    "### Input required:\n",
    "You will need a .csv file containing just the raw fluorescence measurements in 384w format.  You will need to have your standard curve plate in Quadrant\n",
    "\n",
    "\n",
    "\n",
    "\n",
    "### Outputs:\n",
    "The output will be a .csv file containing well/quant information as well as a .gwl file for normalization on the Tecan\n",
    "\n",
    "\n",
    "\n",
    "\n",
    "\n",
    "\n",
    "\n",
    "\n",
    "___________\n"
   ]
  },
  {
   "cell_type": "markdown",
   "id": "bce24a41",
   "metadata": {},
   "source": [
    "\n",
    "____\n",
    "\n",
    "## STEP 1: Upload quant measurements and enter normalization values:\n",
    "Use the form below to upload your .csv containing quant measurements from the M1000.  \n",
    "You will also be prompted to enter the final volume and concentration for normalization."
   ]
  },
  {
   "cell_type": "code",
   "execution_count": 1,
   "id": "a92b5573",
   "metadata": {
    "tags": [
     "hide-input"
    ]
   },
   "outputs": [
    {
     "data": {
      "application/vnd.jupyter.widget-view+json": {
       "model_id": "0bda8db505914ca8ad878d421d81a9cb",
       "version_major": 2,
       "version_minor": 0
      },
      "text/plain": [
       "FileUpload(value={}, accept='.csv', description='Input required! Upload .csv file containing your 384w quant m…"
      ]
     },
     "metadata": {},
     "output_type": "display_data"
    },
    {
     "data": {
      "application/vnd.jupyter.widget-view+json": {
       "model_id": "f085b0df8486411787828ee9b6e19038",
       "version_major": 2,
       "version_minor": 0
      },
      "text/plain": [
       "Tab(children=(Box(children=(Text(value='', description='Plate 1 name (no spaces!): ', layout=Layout(height='30…"
      ]
     },
     "metadata": {},
     "output_type": "display_data"
    }
   ],
   "source": [
    "## LIBRRAY IMPORTS\n",
    "import pandas as pd\n",
    "import matplotlib.pyplot as plt\n",
    "import numpy as np\n",
    "import seaborn as sns\n",
    "import ipywidgets as widgets\n",
    "from IPython.display import display\n",
    "from ipywidgets import Button, HBox, VBox, Layout, Label\n",
    "import io\n",
    "import re\n",
    "\n",
    "quant_file = widgets.FileUpload(\n",
    "    accept='.csv',  # Accepted file extension e.g. '.txt', '.pdf', 'image/*', 'image/*,.pdf'\n",
    "    multiple=False  # True to accept multiple files upload else False\n",
    "    , description = \"Input required! Upload .csv file containing your 384w quant measurements\"\n",
    "    #, style = {'description_width': 'initial'}\n",
    "    , layout = Layout(width='50%', height='60px')\n",
    ")\n",
    "\n",
    "display(quant_file)\n",
    "\n",
    "totalV_1 = widgets.FloatText(\n",
    "     description='Final normalized volume for Plate 1 (ul): '\n",
    "    , disabled=False\n",
    "    , style = {'description_width': 'initial'}\n",
    "    , layout = Layout(width='35%', height='30px'))\n",
    "    \n",
    "\n",
    "finalC_1 = widgets.FloatText(\n",
    "    description='Final concentration for Plate 1 (ng/ul):     '\n",
    "    , disabled=False\n",
    "    , style = {'description_width': 'initial'}\n",
    "    , layout = Layout(width='35%', height='30px')\n",
    "    , label = Label(color = 'red')\n",
    ")\n",
    "    \n",
    "totalV_2 = widgets.FloatText(\n",
    "    description='Final normalized volume for Plate 2 (ul): '\n",
    "    , disabled=False\n",
    "    , style = {'description_width': 'initial'}\n",
    "    , layout = Layout(width='35%', height='30px'))\n",
    "    \n",
    "\n",
    "finalC_2 = widgets.FloatText(\n",
    "    description='Final concentration for Plate 2 (ng/ul): '\n",
    "    , disabled=False\n",
    "    , style = {'description_width': 'initial'}\n",
    "    , layout = Layout(width='35%', height='30px'))\n",
    "    \n",
    "    \n",
    "\n",
    "\n",
    "plate1 = widgets.Text(\n",
    "    description='Plate 1 name (no spaces!): '\n",
    "    , disabled=False\n",
    "    , style = {'description_width': 'initial'}\n",
    "    , layout = Layout(width='35%', height='30px')\n",
    "    , placeholder='Plate 1')\n",
    "plate2 = widgets.Text(\n",
    "    description='Plate 2 name (no spaces!): '\n",
    "    , disabled=False\n",
    "    , style = {'description_width': 'initial'}\n",
    "    , layout = Layout(width='35%', height='30px')\n",
    "    , color='#0022FF'\n",
    "    , placeholder='Plate 2')\n",
    "\n",
    "    \n",
    "    \n",
    "\n",
    "page1 = widgets.Box(children=[plate1, totalV_1, finalC_1])\n",
    "page2 = widgets.Box(children=[plate2, totalV_2, finalC_2])\n",
    "\n",
    "accord = widgets.Tab(children=[page1, page2], width=400)\n",
    "accord.set_title(0, 'Plate 1')\n",
    "accord.set_title(1, 'Plate 2')\n",
    "\n",
    "display(accord)\n",
    "\n"
   ]
  },
  {
   "cell_type": "markdown",
   "id": "80f676ec",
   "metadata": {},
   "source": [
    "______\n",
    "\n",
    "\n",
    "## STEP 2:  Visualize raw data and (optionally) remove wells from analysis\n",
    "This cell will output a visualization of raw quant data from your file.  You can remove certain wells from analysis if you would like by entering them in the form below."
   ]
  },
  {
   "cell_type": "code",
   "execution_count": 2,
   "id": "e21dbd3d",
   "metadata": {},
   "outputs": [
    {
     "data": {
      "image/png": "[encoded data removed]",
      "text/plain": [
       "<Figure size 432x288 with 2 Axes>"
      ]
     },
     "metadata": {
      "needs_background": "light"
     },
     "output_type": "display_data"
    },
    {
     "data": {
      "image/png": "[encoded data removed]",
      "text/plain": [
       "<Figure size 1080x360 with 4 Axes>"
      ]
     },
     "metadata": {
      "needs_background": "light"
     },
     "output_type": "display_data"
    },
    {
     "data": {
      "application/vnd.jupyter.widget-view+json": {
       "model_id": "dea6bca569ec47c9906480e0a4ab3667",
       "version_major": 2,
       "version_minor": 0
      },
      "text/plain": [
       "Tab(children=(Box(children=(Text(value='', description='Plate 1 remove wells?: ', layout=Layout(height='30px',…"
      ]
     },
     "metadata": {},
     "output_type": "display_data"
    }
   ],
   "source": [
    "#quant_file = quant_file.value\n",
    "# Set variables, file names, and metadata\n",
    "quant_f = list(quant_file.value.values())[0]\n",
    "quant_fn = quant_f['content']\n",
    "quant_fn = io.StringIO(quant_fn.decode('utf-8'))\n",
    "quant_fn = pd.read_csv(quant_fn, index_col = '<>')\n",
    "quant_fn.head()\n",
    "stdConc = [0,5,10,20,30,40,50,60,70,80,90,100] # ng/uL concentration of lambda DNA in standard DEFAULT\n",
    "\n",
    "# Define row and column sets for each quadrant\n",
    "alphabet = 'ABCDEFGHIJKLMNOP'\n",
    "Q13_cols = [str(i) for i in list(range(1,25,2))]\n",
    "Q24_cols = [str(i) for i in list(range(2,25,2))]\n",
    "Q12_rows = [alphabet[i] for i in list(range(0,len(alphabet),2))]\n",
    "Q34_rows = [alphabet[i] for i in list(range(1,len(alphabet),2))]\n",
    "\n",
    "# Subset quadrants from the 384-well plate\n",
    "Q1 = quant_fn.loc[Q12_rows,Q13_cols]\n",
    "\n",
    "Q2 = quant_fn.loc[Q12_rows,Q24_cols]\n",
    "Q2 = Q2.set_axis([\"A\",\"B\",\"C\",\"D\",\"E\",\"F\",\"G\",\"H\"],axis=0)\n",
    "Q2 = Q2.set_axis(range(1,13),axis = 1)\n",
    "\n",
    "Q3 = quant_fn.loc[Q34_rows,Q13_cols]\n",
    "Q3 = Q3.set_axis([\"A\",\"B\",\"C\",\"D\",\"E\",\"F\",\"G\",\"H\"],axis=0)\n",
    "Q3 = Q3.set_axis(range(1,13),axis = 1)\n",
    "\n",
    "Q4 = quant_fn.loc[Q34_rows,Q24_cols]\n",
    "Q4 = Q4.set_axis([\"A\",\"B\",\"C\",\"D\",\"E\",\"F\",\"G\",\"H\"],axis=0)\n",
    "Q4 = Q4.set_axis(range(1,13),axis = 1)\n",
    "\n",
    "\n",
    "\n",
    "\n",
    "# Reorder the samples in Q1 (standard)\n",
    "Q1_inv = Q1.iloc[[1,3,5,7], ::-1]\n",
    "Q1_inv.rename(columns=dict(zip(Q1_inv.columns,Q1.columns)), inplace=True)\n",
    "Q1_ord = pd.concat([Q1_inv, Q1.iloc[[0,2,4,6],:]]).sort_index()\n",
    "\n",
    "plt.imshow(Q1_ord, cmap=\"viridis\")\n",
    "plt.title('Reordered Standard')\n",
    "plt.colorbar()\n",
    "plt.show()\n",
    "\n",
    "Sample_Intensities = pd.DataFrame(0, index=[\"A\",\"B\",\"C\",\"D\",\"E\",\"F\",\"G\",\"H\"], columns=range(1,13))\n",
    "Sample_Devs = pd.DataFrame(0, index=[\"A\",\"B\",\"C\",\"D\",\"E\",\"F\",\"G\",\"H\"], columns=range(1,13))\n",
    "\n",
    "\n",
    "#for row_i in range(Q1.shape[0]):\n",
    "#    for col_j in range(Q1.shape[1]):\n",
    "#        Sample_Intensities.iloc[row_i, col_j] = np.mean([Q2.iloc[row_i, col_j], Q3.iloc[row_i, col_j], Q4.iloc[row_i, col_j]])\n",
    "#        Sample_Devs.iloc[row_i, col_j] = np.std((Q2.iloc[row_i, col_j],Q3.iloc[row_i, col_j],Q4.iloc[row_i, col_j]))\n",
    "        \n",
    "# Visualize AVG and CV\n",
    "fig, axs = plt.subplots(1,2, figsize=(15,5))\n",
    "\n",
    "plot1 = axs[0].imshow(Q2, cmap=\"viridis\")\n",
    "p1title = axs[0].set_title(f\"{plate1.value} intensities\")\n",
    "fig.colorbar(plot1, ax=axs[0])\n",
    "\n",
    "plot2 = axs[1].imshow(Q3, cmap=\"viridis\")\n",
    "p1title = axs[1].set_title(f\"{plate2.value} intensities\")\n",
    "fig.colorbar(plot2, ax=axs[1])\n",
    "\n",
    "\n",
    "plt.show()\n",
    "\n",
    "\n",
    "rmv_Q2 = widgets.Text(\n",
    "    placeholder='Comma-separated list of wells to remove from analysis',\n",
    "    description='Plate 1 remove wells?: ',\n",
    "    disabled=False\n",
    "    , style = {'description_width': 'initial'}\n",
    "  , layout = Layout(width='300px', height='30px')\n",
    ")\n",
    "rmv_Q3 = widgets.Text(\n",
    "    placeholder='Comma-separated list of wells to remove from analysis',\n",
    "    description='Plate 2 remove wells?: ',\n",
    "    disabled=False\n",
    "    , style = {'description_width': 'initial'}\n",
    "    , layout = Layout(width='300px', height='30px')\n",
    ")\n",
    "\n",
    "\n",
    "\n",
    "page1 = widgets.Box(children=[rmv_Q2])\n",
    "page2 = widgets.Box(children=[rmv_Q3])\n",
    "\n",
    "accord = widgets.Tab(children=[page1, page2])#, page2, page3], width=400)\n",
    "accord.set_title(0, 'Plate 1')\n",
    "accord.set_title(1, 'Plate 2')\n",
    "\n",
    "display(accord)\n",
    "\n"
   ]
  },
  {
   "cell_type": "markdown",
   "id": "ac84c0ee",
   "metadata": {},
   "source": [
    "\n",
    "### Re-visualize raw fluorescence after removing wells from analysis\n",
    "If you didn't remove any wells, these plots will be exactly the same as above..."
   ]
  },
  {
   "cell_type": "code",
   "execution_count": 3,
   "id": "7b37e419",
   "metadata": {},
   "outputs": [
    {
     "data": {
      "image/png": "[encoded data removed]",
      "text/plain": [
       "<Figure size 1080x360 with 2 Axes>"
      ]
     },
     "metadata": {
      "needs_background": "light"
     },
     "output_type": "display_data"
    }
   ],
   "source": [
    "remove_p1 = rmv_Q2.value.split(',')\n",
    "remove_p1 = [well.strip() for well in remove_p1]\n",
    "remove_p2 = rmv_Q3.value.split(',')\n",
    "remove_p2 = [well.strip() for well in remove_p2]\n",
    "\n",
    "\n",
    "\n",
    "if remove_p1[0] != '':\n",
    "    print(f\"Plate 1 wells removed: {remove_p1}\")\n",
    "    for i in remove_p1:\n",
    "        items = re.match(r\"([a-z]+)([0-9]+)\", i, re.I).groups()\n",
    "        Q2.loc[items[0],int(items[1])] = np.nan\n",
    "\n",
    "if remove_p2[0] != '':\n",
    "    print(f\"Plate 2 wells removed: {remove_p2}\")\n",
    "    for i in remove_p2:\n",
    "        items = re.match(r\"([a-z]+)([0-9]+)\", i, re.I).groups()\n",
    "        Q3.loc[items[0],int(items[1])] = np.nan\n",
    "\n",
    "\n",
    "## RE-plot with removed wells\n",
    "fig, axs = plt.subplots(1,2, figsize=(15,5))\n",
    "\n",
    "plot1 = axs[0].imshow(Q2, cmap=\"viridis\")\n",
    "p1title = axs[0].set_title(\"Plate 1 intensities\")\n",
    "#fig.colorbar(plot1, ax=axs[0])\n",
    "\n",
    "plot2 = axs[1].imshow(Q3, cmap=\"viridis\")\n",
    "p1title = axs[1].set_title(\"Plate 2 intensities\")\n",
    "#fig.colorbar(plot2, ax=axs[1])\n",
    "\n",
    "plt.show()"
   ]
  },
  {
   "cell_type": "markdown",
   "id": "0021beca",
   "metadata": {},
   "source": [
    "___\n",
    "## STEP 3:  Make standard curve\n",
    "Uses Quadrant 1 (standard plate) to make a standard curve to convert fluorescence values to ng/ul"
   ]
  },
  {
   "cell_type": "code",
   "execution_count": 4,
   "id": "c58ba976",
   "metadata": {},
   "outputs": [
    {
     "name": "stdout",
     "output_type": "stream",
     "text": [
      "0.0037312408625639697 -2.546546127134506\n"
     ]
    },
    {
     "data": {
      "text/plain": [
       "[<matplotlib.lines.Line2D at 0x7f8f0031d310>]"
      ]
     },
     "execution_count": 4,
     "metadata": {},
     "output_type": "execute_result"
    },
    {
     "data": {
      "image/png": "[encoded data removed]",
      "text/plain": [
       "<Figure size 1080x360 with 2 Axes>"
      ]
     },
     "metadata": {
      "needs_background": "light"
     },
     "output_type": "display_data"
    }
   ],
   "source": [
    "# Visualize AVG and CV\n",
    "fig, axs = plt.subplots(1,2, figsize=(15,5))\n",
    "\n",
    "axs[0].imshow(Q1_ord, cmap=\"viridis\")\n",
    "axs[0].set_title('Standard')\n",
    "#colorbar()\n",
    "#plt.show()\n",
    "\n",
    "x = list(Q1_ord.mean())\n",
    "plt.scatter(x, stdConc, c='k')\n",
    "m,b = np.polyfit(x, stdConc, 1)\n",
    "print(m, b)\n",
    "axs[1].plot(x, m*np.asarray(x) + b, c='r')\n",
    "#plt.show()"
   ]
  },
  {
   "cell_type": "markdown",
   "id": "7ef16c06",
   "metadata": {},
   "source": [
    "___\n",
    "## STEP 4:  Calculate concentrations in plate\n",
    "Use the standard curve to calculate ng/ul across the plates:"
   ]
  },
  {
   "cell_type": "code",
   "execution_count": 5,
   "id": "819be0cf",
   "metadata": {},
   "outputs": [
    {
     "name": "stdout",
     "output_type": "stream",
     "text": [
      "\n",
      "\n",
      "Hisrograms of ng/ul of the 3 plates.  DOTTED LINE indicates desired normalization value\n"
     ]
    },
    {
     "data": {
      "image/png": "[encoded data removed]",
      "text/plain": [
       "<Figure size 1080x360 with 2 Axes>"
      ]
     },
     "metadata": {
      "needs_background": "light"
     },
     "output_type": "display_data"
    }
   ],
   "source": [
    "# Calculate concentrations sample plate 1 (quadrand 2)\n",
    "Conc_1 = m*Q2+b\n",
    "\n",
    "\n",
    "#Re-name row and column names to match a 96w plate\n",
    "Conc_1 = Conc_1.set_axis([\"A\",\"B\",\"C\",\"D\",\"E\",\"F\",\"G\",\"H\"],axis=0)\n",
    "Conc_1 = Conc_1.set_axis(range(1,13),axis = 1)\n",
    "\n",
    "# Calculate concentrations sample plate 2 (quadrand 3)\n",
    "Conc_2 = m*Q3+b\n",
    "\n",
    "\n",
    "#Re-name row and column names to match a 96w plate\n",
    "Conc_2 = Conc_2.set_axis([\"A\",\"B\",\"C\",\"D\",\"E\",\"F\",\"G\",\"H\"],axis=0)\n",
    "Conc_2 = Conc_2.set_axis(range(1,13),axis = 1)\n",
    "\n",
    "\n",
    "\n",
    "\n",
    "\n",
    "\n",
    "#plt.figure(figsize=(100,50))\n",
    "plt.rcParams[\"figure.figsize\"] = [15, 5]\n",
    "plt.rcParams[\"figure.autolayout\"] = True\n",
    "fig, axs = plt.subplots(1,2)\n",
    "#Display histogram of concentrations plate 1\n",
    "plt.axes(axs[0])\n",
    "conc1_concs = Conc_1.melt()\n",
    "hist1 = conc1_concs['value'].plot(kind = 'hist')\n",
    "plt.title(\"Plate 1 ng/ul\")\n",
    "plt.xlim([0,120])\n",
    "plt.axvline(x=finalC_1.value, color = 'r', linestyle = '--')\n",
    "\n",
    "#Display histogram of concentrations plate 2\n",
    "plt.axes(axs[1])\n",
    "conc2_concs = Conc_2.melt()\n",
    "hist2 = conc2_concs['value'].plot(kind = 'hist')\n",
    "plt.title(\"Plate 2 ng/ul\")\n",
    "plt.xlim([0,120])\n",
    "plt.axvline(x=finalC_2.value, color = 'r', linestyle = '--')\n",
    "\n",
    "\n",
    "\n",
    "\n",
    "print(\"\\n\\nHisrograms of ng/ul of the 3 plates.  DOTTED LINE indicates desired normalization value\")"
   ]
  },
  {
   "cell_type": "markdown",
   "id": "f8a9b665",
   "metadata": {},
   "source": [
    "\n",
    "____\n",
    "## STEP 5:  Calculate volumes needed for normalization\n",
    "This cell will create a new .csv file containing each plate well concentration information as well as how much volume is needed for normalization"
   ]
  },
  {
   "cell_type": "code",
   "execution_count": 7,
   "id": "b9514fd3",
   "metadata": {},
   "outputs": [
    {
     "name": "stdout",
     "output_type": "stream",
     "text": [
      "MAM-63 concentration data exported to .csv! Check your current directory\n",
      "MAM-64 concentration data exported to .csv! Check your current directory\n",
      "\n",
      "\n",
      "Mean DNA concentration MAM-63: 61.53 ng/ul\n",
      "Min concentration of DNA in MAM-63 -2.52 ng/ul\n",
      "\n",
      "\n",
      "Mean DNA concentration MAM-64: -2.51 ng/ul\n",
      "Min concentration of DNA in MAM-64 -2.52 ng/ul\n",
      "\n",
      "\n",
      "ALERT! B2   MAM-63  is below 10.0 ng/uL!.... concentration:  9.09492536406508\n",
      "ALERT! D10   MAM-63  is below 10.0 ng/uL!.... concentration:  -2.516696200233994\n",
      "ALERT! A1   MAM-64  is below 10.0 ng/uL!.... concentration:  -2.4980399959211743\n",
      "ALERT! B1   MAM-64  is below 10.0 ng/uL!.... concentration:  -2.51296495937143\n",
      "ALERT! C1   MAM-64  is below 10.0 ng/uL!.... concentration:  -2.505502477646302\n",
      "ALERT! D1   MAM-64  is below 10.0 ng/uL!.... concentration:  -2.51296495937143\n",
      "ALERT! E1   MAM-64  is below 10.0 ng/uL!.... concentration:  -2.51296495937143\n",
      "ALERT! F1   MAM-64  is below 10.0 ng/uL!.... concentration:  -2.505502477646302\n",
      "ALERT! G1   MAM-64  is below 10.0 ng/uL!.... concentration:  -2.51296495937143\n",
      "ALERT! H1   MAM-64  is below 10.0 ng/uL!.... concentration:  -2.5092337185088662\n",
      "ALERT! A2   MAM-64  is below 10.0 ng/uL!.... concentration:  -2.49430875505861\n",
      "ALERT! B2   MAM-64  is below 10.0 ng/uL!.... concentration:  -2.501771236783738\n",
      "ALERT! C2   MAM-64  is below 10.0 ng/uL!.... concentration:  -2.505502477646302\n",
      "ALERT! D2   MAM-64  is below 10.0 ng/uL!.... concentration:  -2.5092337185088662\n",
      "ALERT! E2   MAM-64  is below 10.0 ng/uL!.... concentration:  -2.5092337185088662\n",
      "ALERT! F2   MAM-64  is below 10.0 ng/uL!.... concentration:  -2.5092337185088662\n",
      "ALERT! G2   MAM-64  is below 10.0 ng/uL!.... concentration:  -2.51296495937143\n",
      "ALERT! H2   MAM-64  is below 10.0 ng/uL!.... concentration:  -2.505502477646302\n",
      "ALERT! A3   MAM-64  is below 10.0 ng/uL!.... concentration:  -2.501771236783738\n",
      "ALERT! B3   MAM-64  is below 10.0 ng/uL!.... concentration:  -2.505502477646302\n",
      "ALERT! C3   MAM-64  is below 10.0 ng/uL!.... concentration:  -2.505502477646302\n",
      "ALERT! D3   MAM-64  is below 10.0 ng/uL!.... concentration:  -2.505502477646302\n",
      "ALERT! E3   MAM-64  is below 10.0 ng/uL!.... concentration:  -2.51296495937143\n",
      "ALERT! F3   MAM-64  is below 10.0 ng/uL!.... concentration:  -2.5092337185088662\n",
      "ALERT! G3   MAM-64  is below 10.0 ng/uL!.... concentration:  -2.516696200233994\n",
      "ALERT! H3   MAM-64  is below 10.0 ng/uL!.... concentration:  -2.5092337185088662\n",
      "ALERT! A4   MAM-64  is below 10.0 ng/uL!.... concentration:  -2.501771236783738\n",
      "ALERT! B4   MAM-64  is below 10.0 ng/uL!.... concentration:  -2.4980399959211743\n",
      "ALERT! C4   MAM-64  is below 10.0 ng/uL!.... concentration:  -2.501771236783738\n",
      "ALERT! D4   MAM-64  is below 10.0 ng/uL!.... concentration:  -2.501771236783738\n",
      "ALERT! E4   MAM-64  is below 10.0 ng/uL!.... concentration:  -2.5092337185088662\n",
      "ALERT! F4   MAM-64  is below 10.0 ng/uL!.... concentration:  -2.51296495937143\n",
      "ALERT! G4   MAM-64  is below 10.0 ng/uL!.... concentration:  -2.5092337185088662\n",
      "ALERT! H4   MAM-64  is below 10.0 ng/uL!.... concentration:  -2.5092337185088662\n",
      "ALERT! A5   MAM-64  is below 10.0 ng/uL!.... concentration:  -2.505502477646302\n",
      "ALERT! B5   MAM-64  is below 10.0 ng/uL!.... concentration:  -2.501771236783738\n",
      "ALERT! C5   MAM-64  is below 10.0 ng/uL!.... concentration:  -2.505502477646302\n",
      "ALERT! D5   MAM-64  is below 10.0 ng/uL!.... concentration:  -2.501771236783738\n",
      "ALERT! E5   MAM-64  is below 10.0 ng/uL!.... concentration:  -2.505502477646302\n",
      "ALERT! F5   MAM-64  is below 10.0 ng/uL!.... concentration:  -2.51296495937143\n",
      "ALERT! G5   MAM-64  is below 10.0 ng/uL!.... concentration:  -2.5092337185088662\n",
      "ALERT! H5   MAM-64  is below 10.0 ng/uL!.... concentration:  -2.505502477646302\n",
      "ALERT! A6   MAM-64  is below 10.0 ng/uL!.... concentration:  -2.501771236783738\n",
      "ALERT! B6   MAM-64  is below 10.0 ng/uL!.... concentration:  -2.501771236783738\n",
      "ALERT! C6   MAM-64  is below 10.0 ng/uL!.... concentration:  -2.501771236783738\n",
      "ALERT! D6   MAM-64  is below 10.0 ng/uL!.... concentration:  -2.505502477646302\n",
      "ALERT! E6   MAM-64  is below 10.0 ng/uL!.... concentration:  -2.5092337185088662\n",
      "ALERT! F6   MAM-64  is below 10.0 ng/uL!.... concentration:  -2.51296495937143\n",
      "ALERT! G6   MAM-64  is below 10.0 ng/uL!.... concentration:  -2.5092337185088662\n",
      "ALERT! H6   MAM-64  is below 10.0 ng/uL!.... concentration:  -2.505502477646302\n",
      "ALERT! A7   MAM-64  is below 10.0 ng/uL!.... concentration:  -2.501771236783738\n",
      "ALERT! B7   MAM-64  is below 10.0 ng/uL!.... concentration:  -2.4980399959211743\n",
      "ALERT! C7   MAM-64  is below 10.0 ng/uL!.... concentration:  -2.5092337185088662\n",
      "ALERT! D7   MAM-64  is below 10.0 ng/uL!.... concentration:  -2.501771236783738\n",
      "ALERT! E7   MAM-64  is below 10.0 ng/uL!.... concentration:  -2.516696200233994\n",
      "ALERT! F7   MAM-64  is below 10.0 ng/uL!.... concentration:  -2.5092337185088662\n",
      "ALERT! G7   MAM-64  is below 10.0 ng/uL!.... concentration:  -2.5092337185088662\n",
      "ALERT! H7   MAM-64  is below 10.0 ng/uL!.... concentration:  -2.5092337185088662\n",
      "ALERT! A8   MAM-64  is below 10.0 ng/uL!.... concentration:  -2.4980399959211743\n",
      "ALERT! B8   MAM-64  is below 10.0 ng/uL!.... concentration:  -2.501771236783738\n",
      "ALERT! C8   MAM-64  is below 10.0 ng/uL!.... concentration:  -2.501771236783738\n",
      "ALERT! D8   MAM-64  is below 10.0 ng/uL!.... concentration:  -2.505502477646302\n",
      "ALERT! E8   MAM-64  is below 10.0 ng/uL!.... concentration:  -2.505502477646302\n",
      "ALERT! F8   MAM-64  is below 10.0 ng/uL!.... concentration:  -2.51296495937143\n",
      "ALERT! G8   MAM-64  is below 10.0 ng/uL!.... concentration:  -2.5092337185088662\n",
      "ALERT! H8   MAM-64  is below 10.0 ng/uL!.... concentration:  -2.505502477646302\n",
      "ALERT! A9   MAM-64  is below 10.0 ng/uL!.... concentration:  -2.4980399959211743\n",
      "ALERT! B9   MAM-64  is below 10.0 ng/uL!.... concentration:  -2.4980399959211743\n",
      "ALERT! C9   MAM-64  is below 10.0 ng/uL!.... concentration:  -2.4980399959211743\n",
      "ALERT! D9   MAM-64  is below 10.0 ng/uL!.... concentration:  -2.501771236783738\n",
      "ALERT! E9   MAM-64  is below 10.0 ng/uL!.... concentration:  -2.501771236783738\n",
      "ALERT! F9   MAM-64  is below 10.0 ng/uL!.... concentration:  -2.5092337185088662\n",
      "ALERT! G9   MAM-64  is below 10.0 ng/uL!.... concentration:  -2.5092337185088662\n",
      "ALERT! H9   MAM-64  is below 10.0 ng/uL!.... concentration:  -2.5092337185088662\n",
      "ALERT! A10   MAM-64  is below 10.0 ng/uL!.... concentration:  -2.49430875505861\n",
      "ALERT! B10   MAM-64  is below 10.0 ng/uL!.... concentration:  -2.501771236783738\n",
      "ALERT! C10   MAM-64  is below 10.0 ng/uL!.... concentration:  -2.4980399959211743\n",
      "ALERT! D10   MAM-64  is below 10.0 ng/uL!.... concentration:  -2.505502477646302\n",
      "ALERT! E10   MAM-64  is below 10.0 ng/uL!.... concentration:  -2.5092337185088662\n",
      "ALERT! F10   MAM-64  is below 10.0 ng/uL!.... concentration:  -2.5092337185088662\n",
      "ALERT! G10   MAM-64  is below 10.0 ng/uL!.... concentration:  -2.5092337185088662\n",
      "ALERT! H10   MAM-64  is below 10.0 ng/uL!.... concentration:  -2.51296495937143\n",
      "ALERT! A11   MAM-64  is below 10.0 ng/uL!.... concentration:  -2.501771236783738\n",
      "ALERT! B11   MAM-64  is below 10.0 ng/uL!.... concentration:  -2.49430875505861\n",
      "ALERT! C11   MAM-64  is below 10.0 ng/uL!.... concentration:  -2.501771236783738\n",
      "ALERT! D11   MAM-64  is below 10.0 ng/uL!.... concentration:  -2.5092337185088662\n",
      "ALERT! E11   MAM-64  is below 10.0 ng/uL!.... concentration:  -2.501771236783738\n",
      "ALERT! F11   MAM-64  is below 10.0 ng/uL!.... concentration:  -2.5092337185088662\n",
      "ALERT! G11   MAM-64  is below 10.0 ng/uL!.... concentration:  -2.5092337185088662\n",
      "ALERT! H11   MAM-64  is below 10.0 ng/uL!.... concentration:  -2.5092337185088662\n",
      "ALERT! A12   MAM-64  is below 10.0 ng/uL!.... concentration:  -2.4980399959211743\n",
      "ALERT! B12   MAM-64  is below 10.0 ng/uL!.... concentration:  -2.4980399959211743\n",
      "ALERT! C12   MAM-64  is below 10.0 ng/uL!.... concentration:  -2.505502477646302\n",
      "ALERT! D12   MAM-64  is below 10.0 ng/uL!.... concentration:  -2.505502477646302\n",
      "ALERT! E12   MAM-64  is below 10.0 ng/uL!.... concentration:  -2.5092337185088662\n",
      "ALERT! F12   MAM-64  is below 10.0 ng/uL!.... concentration:  -2.5092337185088662\n",
      "ALERT! G12   MAM-64  is below 10.0 ng/uL!.... concentration:  -2.51296495937143\n",
      "ALERT! H12   MAM-64  is below 10.0 ng/uL!.... concentration:  -2.5092337185088662\n",
      "\n",
      "\n",
      "\n",
      "\n",
      "Max vol DNA to transfer from MAM-63: 9.0uL\n",
      "Min vol DNA to transfer from MAM-63: 1.12uL\n",
      "Mean vol DNA transfered MAM-63: 1.78uL\n",
      "\n",
      "\n",
      "Max vol DNA to transfer from MAM-64: 9.0uL\n",
      "Min vol DNA to transfer from MAM-64: 9.0uL\n",
      "Mean vol DNA transfered MAM-64: 9.0uL\n",
      "\n",
      "\n"
     ]
    }
   ],
   "source": [
    "pd.set_option(\"display.max_rows\", None, \"display.max_columns\", None) \n",
    "print(f\"{plate1.value} concentration data exported to .csv! Check your current directory\")\n",
    "print(f\"{plate2.value} concentration data exported to .csv! Check your current directory\")\n",
    "print(\"\\n\")\n",
    "\n",
    "\n",
    "## Plate 1:\n",
    "# Linearize the data\n",
    "DF_1 = pd.DataFrame(columns=['Pos','Concentration'])\n",
    "\n",
    "for i, content in Conc_1.items():\n",
    "    col_i = str(i)\n",
    "    for j,k in content.iteritems():\n",
    "        DF_1 = DF_1.append({'Pos':j+col_i, 'Concentration':k}, ignore_index=True)\n",
    "# Calculate the volume of DNA and EB required for totalV @ finalC ng/uL\n",
    "DF_1['uL_DNA'] = round(totalV_1.value*finalC_1.value / DF_1.Concentration,2)\n",
    "DF_1['uL_EB'] = round(totalV_1.value-DF_1.uL_DNA,2)\n",
    "\n",
    "print(f\"Mean DNA concentration {plate1.value}: {round(DF_1['Concentration'].mean(),2)} ng/ul\")\n",
    "print(f\"Min concentration of DNA in {plate1.value} {round(DF_1['Concentration'].min(),2)} ng/ul\" )\n",
    "print(\"\\n\")\n",
    "\n",
    "plate1_export = DF_1\n",
    "plate1_export = plate1_export.drop(['uL_EB'],axis = 1)\n",
    "plate1_export = plate1_export.rename({\"Pos\":\"Well\",\"uL_DNA\":\"ul needed for normalization\"}, axis = 1)\n",
    "plate1_export = plate1_export.set_index('Well')\n",
    "plate1_export = plate1_export.dropna(how = 'any')\n",
    "plate1_export.to_csv(f\"{plate1.value}_concentrations.csv\")\n",
    "\n",
    "\n",
    "\n",
    "## Plate 2:\n",
    "# Linearize the data\n",
    "DF_2 = pd.DataFrame(columns=['Pos','Concentration'])\n",
    "\n",
    "for i, content in Conc_2.items():\n",
    "    col_i = str(i)\n",
    "    for j,k in content.iteritems():\n",
    "        DF_2 = DF_2.append({'Pos':j+col_i, 'Concentration':k}, ignore_index=True)\n",
    "# Calculate the volume of DNA and EB required for totalV @ finalC ng/uL\n",
    "DF_2['uL_DNA'] = round(totalV_2.value*finalC_2.value / DF_2.Concentration,2)\n",
    "DF_2['uL_EB'] = round(totalV_2.value-DF_2.uL_DNA,2)\n",
    "\n",
    "print(f\"Mean DNA concentration {plate2.value}: {round(DF_2['Concentration'].mean(),2)} ng/ul\")\n",
    "print(f\"Min concentration of DNA in {plate2.value} {round(DF_2['Concentration'].min(),2)} ng/ul\" )\n",
    "print(\"\\n\")\n",
    "\n",
    "plate2_export = DF_2\n",
    "plate2_export = plate2_export.drop(['uL_EB'],axis = 1)\n",
    "plate2_export = plate2_export.rename({\"Pos\":\"Well\",\"uL_DNA\":\"ul needed for normalization\"}, axis = 1)\n",
    "plate2_export = plate2_export.set_index('Well')\n",
    "plate2_export = plate2_export.dropna(how = 'any')\n",
    "plate2_export.to_csv(f\"{plate2.value}_concentrations.csv\")\n",
    "\n",
    "\n",
    "\n",
    "\n",
    "\n",
    "\n",
    "\n",
    "## Negative volume handling\n",
    "# Cannot pipette volumes less than or equal to 0\n",
    "for i, content in DF_1.iterrows():\n",
    "    if content.Concentration < finalC_1.value:\n",
    "        print(\"ALERT!\" ,content.Pos, \" \",plate1.value,\" is below\", finalC_1.value, \"ng/uL!.... concentration: \", content.Concentration)\n",
    "        DF_1.loc[i,'uL_DNA'] = totalV_1.value-1\n",
    "        DF_1.loc[i,'uL_EB'] = 1\n",
    "        \n",
    "for i, content in DF_2.iterrows():\n",
    "    if content.Concentration < finalC_2.value:\n",
    "        print(\"ALERT!\" ,content.Pos, \" \",plate2.value,\" is below\", finalC_2.value, \"ng/uL!.... concentration: \", content.Concentration)\n",
    "        DF_2.loc[i,'uL_DNA'] = totalV_2.value-1\n",
    "        DF_2.loc[i,'uL_EB'] = 1\n",
    "        \n",
    "\n",
    "print(\"\\n\\n\\n\")\n",
    "\n",
    "print(f\"Max vol DNA to transfer from {plate1.value}: {DF_1['uL_DNA'].max()}uL\")\n",
    "print(f\"Min vol DNA to transfer from {plate1.value}: {DF_1['uL_DNA'].min()}uL\")\n",
    "print(f\"Mean vol DNA transfered {plate1.value}: {round(DF_1['uL_DNA'].mean(),2)}uL\")\n",
    "print(\"\\n\")\n",
    "print(f\"Max vol DNA to transfer from {plate2.value}: {DF_2['uL_DNA'].max()}uL\")\n",
    "print(f\"Min vol DNA to transfer from {plate2.value}: {DF_2['uL_DNA'].min()}uL\")\n",
    "print(f\"Mean vol DNA transfered {plate2.value}: {round(DF_2['uL_DNA'].mean(),2)}uL\")\n",
    "print(\"\\n\")\n"
   ]
  },
  {
   "cell_type": "markdown",
   "id": "14cd77c4",
   "metadata": {},
   "source": [
    "\n",
    "____\n",
    "### Visualize ul of DNA needed to transfer from each well to achieve desired normalization volume and concentration:\n",
    "Ensure that no wells are below your normalization value"
   ]
  },
  {
   "cell_type": "code",
   "execution_count": 8,
   "id": "1fbe311b",
   "metadata": {},
   "outputs": [
    {
     "name": "stdout",
     "output_type": "stream",
     "text": [
      "Volumes for each plate to be transfered:  Dotted line indicates average for that plate\n"
     ]
    },
    {
     "data": {
      "text/plain": [
       "<matplotlib.collections.LineCollection at 0x7f8ed8d5a0d0>"
      ]
     },
     "execution_count": 8,
     "metadata": {},
     "output_type": "execute_result"
    },
    {
     "data": {
      "image/png": "[encoded data removed]",
      "text/plain": [
       "<Figure size 1080x576 with 2 Axes>"
      ]
     },
     "metadata": {
      "needs_background": "light"
     },
     "output_type": "display_data"
    }
   ],
   "source": [
    "### PLOT VOLUME OF DNA TRANSFERED BY WELL\n",
    "x_var = 'Pos'\n",
    "y_var = 'uL_DNA'\n",
    "\n",
    "\n",
    "\n",
    "print(\"Volumes for each plate to be transfered:  Dotted line indicates average for that plate\")\n",
    "#plt.figure(figsize=(100,50))\n",
    "plt.rcParams[\"figure.figsize\"] = [15, 8]\n",
    "plt.rcParams[\"figure.autolayout\"] = True\n",
    "fig, axs = plt.subplots(2)\n",
    "\n",
    "\n",
    "###PLATE 1\n",
    "plt.axes(axs[0])\n",
    "#plt.figure(figsize=(16,5))\n",
    "plotdf = DF_1\n",
    "\n",
    "sns.barplot(x= x_var, y= y_var, data=plotdf)\n",
    "plt.tick_params(rotation=90)\n",
    "plt.xlabel('ul DNA')\n",
    "#plt.ylim([0,100])\n",
    "plt.ylabel('ul Miniprep',size=14)\n",
    "#plt.ylim([0,70])\n",
    "plt.title(f'ul DNA from {plate1.value} by well',size=12)\n",
    "plt.hlines(round(DF_1['uL_DNA'].mean(),2),-1,96, linestyles = 'dashed', color = 'k')\n",
    "\n",
    "###PLATE 2\n",
    "plt.axes(axs[1])\n",
    "#plt.figure(figsize=(16,5))\n",
    "plotdf=DF_2\n",
    "sns.barplot(x = x_var,y = y_var,data=plotdf)\n",
    "plt.tick_params(rotation=90)\n",
    "plt.xlabel('')\n",
    "#plt.ylim([0,100])\n",
    "plt.ylabel('ul Miniprep',size=14)\n",
    "#plt.ylim([0,70])\n",
    "plt.title(f'ul DNA from {plate2.value} by well',size=12)\n",
    "plt.hlines(round(DF_2['uL_DNA'].mean(),2),-1,96, linestyles = 'dashed', color = 'k')\n",
    "\n"
   ]
  },
  {
   "cell_type": "markdown",
   "id": "a970e5c5",
   "metadata": {},
   "source": [
    "\n",
    "____\n",
    "## STEP 6:  Make output files for Tecan normalization\n",
    "These files will be in a \".gwl\" format and can be run using script AUTO-MAM-206\n",
    "\n",
    "### First, confirm final concentrations and volumes.  If you would like to change this, go back to step 1 and re-run this entire script!"
   ]
  },
  {
   "cell_type": "code",
   "execution_count": 10,
   "id": "2e7cdc46",
   "metadata": {},
   "outputs": [
    {
     "name": "stdout",
     "output_type": "stream",
     "text": [
      "Confirm that you want to normalize MAM-63 to:\n",
      "10.0ng/ul\n",
      "in a total volume of:\n",
      "10.0ul!\n",
      "\n",
      "MAM-64 to:\n",
      "10.0ng/ul\n",
      "in a total volume of:\n",
      "10.0ul!\n",
      "\n",
      "If this is incorrect, go back to top of script and rerun!\n"
     ]
    }
   ],
   "source": [
    "#Confirming concentration and volumes:\n",
    "\n",
    "print(f'Confirm that you want to normalize {plate1.value} to:\\n{finalC_1.value}ng/ul\\nin a total volume of:\\n{totalV_1.value}ul!\\n\\n{plate2.value} to:\\n{finalC_2.value}ng/ul\\nin a total volume of:\\n{totalV_2.value}ul!\\n\\nIf this is incorrect, go back to top of script and rerun!')"
   ]
  },
  {
   "cell_type": "markdown",
   "id": "dae92fc0",
   "metadata": {},
   "source": [
    "___\n",
    "### Make .gwl files\n",
    "These will be exported to your current directory."
   ]
  },
  {
   "cell_type": "code",
   "execution_count": 11,
   "id": "61d982ab",
   "metadata": {},
   "outputs": [
    {
     "name": "stdout",
     "output_type": "stream",
     "text": [
      "_____________\n",
      "\n",
      "All done! Check your current directory (where this script is) for .csv files containing ng/ul information for all wells as well as .gwl files for the Tecan normalization\n"
     ]
    }
   ],
   "source": [
    "## DROP nan rows so they don't end up in gwl:\n",
    "\n",
    "DF_1 = DF_1.dropna(how = 'any')\n",
    "DF_2 = DF_2.dropna(how = 'any')\n",
    "\n",
    "######### Plate 1 ########\n",
    "# Make A/D commands for GWL script\n",
    "\n",
    "# First, make commands for EB\n",
    "DF_1['A_EB'] = \"A;Trough_EB;;;\"+DF_1.Pos+\";;\"+DF_1.uL_EB.astype(str)+\";\"\n",
    "DF_1['D_EB'] = \"D;pDNA_P1_Dil;;;\"+DF_1.Pos+\";;\"+DF_1.uL_EB.astype(str)+\";\"\n",
    "DF_1['W_EB'] = \"W;\"\n",
    "\n",
    "# Second, make commands for DNA\n",
    "DF_1['A_DNA'] = \"A;pDNA_P1;;;\"+DF_1.Pos+\";;\"+DF_1.uL_DNA.astype(str)+\";\"\n",
    "DF_1['D_DNA'] = \"D;pDNA_P1_Dil;;;\"+DF_1.Pos+\";;\"+DF_1.uL_DNA.astype(str)+\";\"\n",
    "DF_1['W_DNA'] = \"W;\"\n",
    "\n",
    "out1 = f\"{plate1.value}_{int(finalC_1.value)}ngul_{int(totalV_1.value)}ul.gwl\"\n",
    "with open(out1,'w+') as outfile:\n",
    "    # First, write the EB A/D cycles\n",
    "    for index, row in DF_1.iterrows():\n",
    "        outfile.write(row[\"A_EB\"]+\"\\n\")\n",
    "        outfile.write(row[\"D_EB\"]+\"\\n\")\n",
    "        outfile.write(row[\"W_EB\"]+\"\\n\")\n",
    "    # Second, write the DNA A/D cycles\n",
    "    for index, row in DF_1.iterrows():\n",
    "        outfile.write(row[\"A_DNA\"]+\"\\n\")\n",
    "        outfile.write(row[\"D_DNA\"]+\"\\n\")\n",
    "        outfile.write(row[\"W_DNA\"]+\"\\n\")\n",
    "\n",
    "\n",
    "\n",
    "\n",
    "######### Plate 2 ########\n",
    "# First, make commands for EB\n",
    "DF_2['A_EB'] = \"A;Trough_EB;;;\"+DF_2.Pos+\";;\"+DF_2.uL_EB.astype(str)+\";\"\n",
    "DF_2['D_EB'] = \"D;pDNA_P1_Dil;;;\"+DF_2.Pos+\";;\"+DF_2.uL_EB.astype(str)+\";\"\n",
    "DF_2['W_EB'] = \"W;\"\n",
    "\n",
    "# Second, make commands for DNA\n",
    "DF_2['A_DNA'] = \"A;pDNA_P1;;;\"+DF_2.Pos+\";;\"+DF_2.uL_DNA.astype(str)+\";\"\n",
    "DF_2['D_DNA'] = \"D;pDNA_P1_Dil;;;\"+DF_2.Pos+\";;\"+DF_2.uL_DNA.astype(str)+\";\"\n",
    "DF_2['W_DNA'] = \"W;\"\n",
    "\n",
    "\n",
    "out2 = f\"{plate2.value}_{int(finalC_2.value)}ngul_{int(totalV_2.value)}ul.gwl\"\n",
    "with open(out2,'w+') as outfile:\n",
    "    # First, write the EB A/D cycles\n",
    "    for index, row in DF_2.iterrows():\n",
    "        outfile.write(row[\"A_EB\"]+\"\\n\")\n",
    "        outfile.write(row[\"D_EB\"]+\"\\n\")\n",
    "        outfile.write(row[\"W_EB\"]+\"\\n\")\n",
    "    # Second, write the DNA A/D cycles\n",
    "    for index, row in DF_2.iterrows():\n",
    "        outfile.write(row[\"A_DNA\"]+\"\\n\")\n",
    "        outfile.write(row[\"D_DNA\"]+\"\\n\")\n",
    "        outfile.write(row[\"W_DNA\"]+\"\\n\")\n",
    "\n",
    "\n",
    "\n",
    "        \n",
    "print(\"_____________\\n\\nAll done! Check your current directory (where this script is) for .csv files containing ng/ul information for all wells as well as .gwl files for the Tecan normalization\")"
   ]
  },
  {
   "cell_type": "code",
   "execution_count": null,
   "id": "ab6a934e",
   "metadata": {},
   "outputs": [],
   "source": []
  }
 ],
 "metadata": {
  "kernelspec": {
   "display_name": "Python 3 (ipykernel)",
   "language": "python",
   "name": "python3"
  },
  "language_info": {
   "codemirror_mode": {
    "name": "ipython",
    "version": 3
   },
   "file_extension": ".py",
   "mimetype": "text/x-python",
   "name": "python",
   "nbconvert_exporter": "python",
   "pygments_lexer": "ipython3",
   "version": "3.8.11"
  }
 },
 "nbformat": 4,
 "nbformat_minor": 5
}
